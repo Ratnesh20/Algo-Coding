{
 "cells": [
  {
   "attachments": {},
   "cell_type": "markdown",
   "metadata": {},
   "source": [
    "#### Lecture 2\n",
    "\n",
    "Prifix sum\n",
    "Repeating subarray"
   ]
  },
  {
   "cell_type": "code",
   "execution_count": 77,
   "metadata": {},
   "outputs": [
    {
     "name": "stdout",
     "output_type": "stream",
     "text": [
      "List all Sub-Array\n",
      "0:-  0  0 1  0 1 2  0 1 2 3  0 1 2 3 4 \n",
      "1:-  1  1 2  1 2 3  1 2 3 4 \n",
      "2:-  2  2 3  2 3 4 \n",
      "3:-  3  3 4 \n",
      "4:-  4 \n",
      "\n",
      "Sub-Array with Prefix sum\n",
      "0:- -3 3 4 8 13 \n",
      "1:- 6 7 11 16 \n",
      "2:- 1 5 10 \n",
      "3:- 4 9 \n",
      "4:- 5 \n",
      "\n",
      "Sub-Array without Prefix sum\n",
      "0:- -3 3 4 8 13 \n",
      "1:- 6 7 11 16 \n",
      "2:- 1 5 10 \n",
      "3:- 4 9 \n",
      "4:- 5 \n",
      "\n",
      "Total sum of all Sub-Array\n",
      "Sum of total Sub-Array: 99\n"
     ]
    }
   ],
   "source": [
    "# Prifix Sum\n",
    "l = [-3,6,1,4,5]\n",
    "prifix_sum = []\n",
    "c_sum = 0\n",
    "for i in l:\n",
    "    c_sum += i\n",
    "    prifix_sum.append(c_sum)\n",
    "\n",
    "\n",
    "# equilibrium index\n",
    "def equilibrium_index(l):\n",
    "    total_sum = sum(l)\n",
    "    left_sum = l[0]\n",
    "    for i in range(1,len(l)):\n",
    "        if total_sum - l[i] == left_sum:\n",
    "            return i\n",
    "        left_sum += l[i]\n",
    "    return -1\n",
    "\n",
    "def list_all_subarray(l):\n",
    "    # list all Sub-Array\n",
    "    print('List all Sub-Array')\n",
    "    for i in range(len(l)):\n",
    "        print(i, end=':- ')\n",
    "        for j in range(i,len(l)):\n",
    "            print(end=' ')\n",
    "            for k in range(i,j+1):\n",
    "                print(k,end=' ') # Repeating subarray\n",
    "        print()\n",
    "\n",
    "\n",
    "    print('\\nSub-Array with Prefix sum')\n",
    "    # list all subarry sum with prifix sum\n",
    "    for i in range(len(l)):\n",
    "        print(i, end=':- ')\n",
    "        for j in range(i,len(l)):\n",
    "            res = prifix_sum[j] - prifix_sum[i-1] if i>0 else prifix_sum[j]\n",
    "            print(res, end=' ')\n",
    "        print()\n",
    "\n",
    "    print('\\nSub-Array without Prefix sum')\n",
    "    # list all subarry sum with prifix sum\n",
    "    for i in range(len(l)):\n",
    "        print(i, end=':- ')\n",
    "        res = 0\n",
    "        for j in range(i,len(l)):\n",
    "            res += l[j]\n",
    "            # shortcut\n",
    "            # res = sum(l[i:])\n",
    "            print(res, end=' ')\n",
    "        print()\n",
    "\n",
    "    \n",
    "    \n",
    "    print('\\nTotal sum of all Sub-Array')\n",
    "    # Find the occurrence of each element in total sum\n",
    "    # Between b and a total elements = b-a+1 if b>a\n",
    "    # start choice = (i-0)+1 = (i+1) (include both i and 0)\n",
    "    # end choice = (n-1)-(i-1) = (n-i) (include both i and n-1)\n",
    "    # Why i is included at both side?\n",
    "    res = 0\n",
    "    n = len(l)\n",
    "    for i in range(n):\n",
    "        res += (i+1)*(n-i)*l[i]\n",
    "    print('Sum of total Sub-Array:',res)\n",
    "\n",
    "list_all_subarray(l)"
   ]
  },
  {
   "cell_type": "code",
   "execution_count": null,
   "metadata": {},
   "outputs": [],
   "source": []
  },
  {
   "cell_type": "code",
   "execution_count": 40,
   "metadata": {},
   "outputs": [],
   "source": [
    "\n",
    "class Solution:\n",
    "    # @param A : list of integers\n",
    "    # @param B : integer\n",
    "    # @return an integer\n",
    "    def solve(self, A, B):\n",
    "\n",
    "        def insert_cow(A, min_dis, B):\n",
    "            last_cow = A[0]\n",
    "            B -= 1\n",
    "            for i in range(1,len(A)):\n",
    "                if A[i]-last_cow >= min_dis:\n",
    "                    last_cow = A[i]\n",
    "                    B -= 1\n",
    "                if B == 0:\n",
    "                    return True\n",
    "            if B > 0:\n",
    "                return False\n",
    "\n",
    "        n = len(A)\n",
    "        A.sort()\n",
    "        min_dis, left, right = -1, float('inf'), float('-inf')\n",
    "        \n",
    "        for i in range(n):\n",
    "            if A[i] - A[i-1] < left:\n",
    "                left = A[i] - A[i-1]\n",
    "        right = A[n-1] - A[0]\n",
    "        \n",
    "        while left <= right:\n",
    "            mid = (left+right)//2\n",
    "            \n",
    "            res = insert_cow(A, mid, B)\n",
    "            if res:\n",
    "                min_dis = mid\n",
    "                left = mid + 1\n",
    "            else:\n",
    "                right = mid - 1\n",
    "        return min_dis\n"
   ]
  },
  {
   "cell_type": "code",
   "execution_count": 41,
   "metadata": {},
   "outputs": [
    {
     "data": {
      "text/plain": [
       "1000000000"
      ]
     },
     "execution_count": 41,
     "metadata": {},
     "output_type": "execute_result"
    }
   ],
   "source": [
    "s = Solution()\n",
    "A = [ 0, 1000000000 ]\n",
    "B = 2\n",
    "\n",
    "s.solve(A, B)\n"
   ]
  },
  {
   "cell_type": "code",
   "execution_count": 49,
   "metadata": {},
   "outputs": [
    {
     "name": "stdout",
     "output_type": "stream",
     "text": [
      "0:-  0  0 1  0 1 2  0 1 2 3 \n",
      "1:-  1  1 2  1 2 3 \n",
      "2:-  2  2 3 \n",
      "3:-  3 \n"
     ]
    }
   ],
   "source": []
  },
  {
   "cell_type": "code",
   "execution_count": 57,
   "metadata": {},
   "outputs": [
    {
     "name": "stdout",
     "output_type": "stream",
     "text": [
      "[[0], [0, 1], [0, 1, 2], [0, 1, 2, 3]]\n",
      "[[1], [1, 2], [1, 2, 3]]\n",
      "[[2], [2, 3]]\n",
      "[[3]]\n",
      "[]\n"
     ]
    },
    {
     "data": {
      "text/plain": [
       "[]"
      ]
     },
     "execution_count": 57,
     "metadata": {},
     "output_type": "execute_result"
    }
   ],
   "source": [
    "def sub_lists (l):\n",
    "    for i in range(len(l) + 1):\n",
    "        lists = []\n",
    "        for j in range(i,4):\n",
    "            lists.append(l[i: j+1])\n",
    "        print(lists)\n",
    "    return lists\n",
    " \n",
    "# driver code\n",
    "l1 = [0,1, 2, 3]\n",
    "sub_lists(l1)"
   ]
  },
  {
   "cell_type": "code",
   "execution_count": null,
   "metadata": {},
   "outputs": [],
   "source": []
  }
 ],
 "metadata": {
  "kernelspec": {
   "display_name": "Python 3",
   "language": "python",
   "name": "python3"
  },
  "language_info": {
   "codemirror_mode": {
    "name": "ipython",
    "version": 3
   },
   "file_extension": ".py",
   "mimetype": "text/x-python",
   "name": "python",
   "nbconvert_exporter": "python",
   "pygments_lexer": "ipython3",
   "version": "3.11.0"
  },
  "orig_nbformat": 4
 },
 "nbformat": 4,
 "nbformat_minor": 2
}
