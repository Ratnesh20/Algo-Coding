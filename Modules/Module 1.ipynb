{
 "cells": [
  {
   "attachments": {},
   "cell_type": "markdown",
   "metadata": {},
   "source": [
    "#### Lecture 2\n",
    "\n",
    "Prifix prod\n",
    "Repeating subarray"
   ]
  },
  {
   "attachments": {},
   "cell_type": "markdown",
   "metadata": {},
   "source": [
    "<li>A <strong>subarray is a contiguous part of array and maintains relative ordering of elements</strong>. For an array/string of size n, there are n*(n+1)/2 non-empty subarrays/substrings.\n",
    "</li>\n",
    "\n",
    "<li>A <strong>subsequence maintain relative ordering of elements but may or may not be a contiguous part of an array</strong>. For a sequence of size n, we can have 2^n-1 non-empty sub-sequences in total.\n",
    "</li>\n",
    "\n",
    "<li>A <strong>subset MAY NOT maintain relative ordering of elements and can or cannot be a contiguous part of an array</strong>. For a set of size n, we can have (2^n) sub-sets in total.\n",
    "</li>\n",
    "</ul>\n",
    "<p>Let us understand it with an example.</p><p>\n",
    "</p><p>Consider an array:</p><p>\n",
    "</p><p>array = [1,2,3,4]</p><p>\n",
    "</p><ul>\n",
    "<li>\n",
    "<p>Subarray : [1,2],[1,2,3] - is continous and maintains relative order of elements</p><p>\n",
    "</p></li>\n",
    "<li>\n",
    "<p>Subsequence: [1,2,4] - is not continous but maintains relative order of elements</p><p>\n",
    "</p></li>\n",
    "<li>\n",
    "<p>Subset: [1,3,2] - is not continous and does not maintain relative order of elements</p><p>\n",
    "</p></li>\n",
    "</ul>\n",
    "<p><strong>Some interesting observations</strong> :</p><p>\n",
    "</p><ul>\n",
    "<li>Every Subarray is a Subsequence.</li>\n",
    "<li>Every Subsequence is a Subset.</li>\n",
    "</ul></div>"
   ]
  },
  {
   "cell_type": "code",
   "execution_count": 26,
   "metadata": {},
   "outputs": [],
   "source": [
    "# Prifix Sum\n",
    "l = [-3,6,1,4,5]\n",
    "prifix_sum = []\n",
    "c_sum = 0\n",
    "for i in l:\n",
    "    c_sum += i\n",
    "    prifix_sum.append(c_sum)\n",
    "\n",
    "\n",
    "# equilibrium index\n",
    "def equilibrium_index(l):\n",
    "    total_sum = sum(l)\n",
    "    left_sum = l[0]\n",
    "    for i in range(1,len(l)):\n",
    "        if total_sum - l[i] == left_sum:\n",
    "            return i\n",
    "        left_sum += l[i]\n",
    "    return -1\n",
    "\n",
    "def list_all_subarray(l):\n",
    "    # list all Sub-Array\n",
    "    print('List all Sub-Array')\n",
    "    for i in range(len(l)):\n",
    "        print(i, end=':- ')\n",
    "        for j in range(i,len(l)):\n",
    "            print(end=' ')\n",
    "            for k in range(i,j+1):\n",
    "                print(k,end=' ') # Repeating subarray\n",
    "        print()\n",
    "\n",
    "\n",
    "    print('\\nSub-Array with Prefix sum')\n",
    "    # list all subarry sum with prifix sum\n",
    "    for i in range(len(l)):\n",
    "        print(i, end=':- ')\n",
    "        for j in range(i,len(l)):\n",
    "            res = prifix_sum[j] - prifix_sum[i-1] if i>0 else prifix_sum[j]\n",
    "            print(res, end=' ')\n",
    "        print()\n",
    "\n",
    "    print('\\nSub-Array without Prefix sum')\n",
    "    # list all subarry sum with prifix sum\n",
    "    for i in range(len(l)):\n",
    "        print(i, end=':- ')\n",
    "        res = 0\n",
    "        for j in range(i,len(l)):\n",
    "            res += l[j]\n",
    "            # shortcut\n",
    "            # res = sum(l[i:])\n",
    "            print(res, end=' ')\n",
    "        print()\n",
    "\n",
    "    \n",
    "    \n",
    "    print('\\nTotal sum of all Sub-Array')\n",
    "    # Find the occurrence of each element in total sum\n",
    "    # Between b and a total elements = b-a+1 if b>a\n",
    "    # start choice = (i-0)+1 = (i+1) (include both i and 0)\n",
    "    # end choice = (n-1)-(i-1) = (n-i) (include both i and n-1)\n",
    "    # Why i is included at both side?\n",
    "    res = 0\n",
    "    n = len(l)\n",
    "    for i in range(n):\n",
    "        res += (i+1)*(n-i)*l[i]\n",
    "    print('Sum of total Sub-Array:',res)\n",
    "\n",
    "    l = [1,2,3,4,5]\n",
    "    print('\\nMax sum k size Sub-Array')\n",
    "    k = 3\n",
    "    n = len(l)\n",
    "    ans = 0\n",
    "    for i in range(n-k+1):\n",
    "        res = 0\n",
    "        for j in range(i,i+k):\n",
    "            res += l[j]\n",
    "        ans = max(res, ans)\n",
    "    print('Max sum k size Sub-Array:',ans)\n",
    "\n",
    "\n",
    "    print('\\n\\nSliding Window')\n",
    "    window_sum = 0\n",
    "    ans = 0\n",
    "    for i in range(k):\n",
    "        window_sum += l[i]\n",
    "    \n",
    "    for i in range(k,n):\n",
    "        window_sum += (l[i]-l[i-k])\n",
    "        ans = max(ans, window_sum)\n",
    "    print('Sliding Window: Max sum k size Sub-Array:',ans)\n",
    "\n",
    "# list_all_subarray(l)"
   ]
  },
  {
   "cell_type": "code",
   "execution_count": null,
   "metadata": {},
   "outputs": [],
   "source": []
  },
  {
   "attachments": {},
   "cell_type": "markdown",
   "metadata": {},
   "source": [
    "#### Lecture 2\n",
    "\n",
    "1D Array"
   ]
  },
  {
   "attachments": {},
   "cell_type": "markdown",
   "metadata": {},
   "source": [
    "Kadane's Algorithm\n",
    "\n",
    "If currSum is greater than maxSum, update maxSum equals to currSum.<br>\n",
    "If currSum is less than zero, make currSum equal to zero."
   ]
  },
  {
   "cell_type": "code",
   "execution_count": 24,
   "metadata": {},
   "outputs": [
    {
     "data": {
      "text/plain": [
       "(7, 7, -1)"
      ]
     },
     "execution_count": 24,
     "metadata": {},
     "output_type": "execute_result"
    }
   ],
   "source": [
    "l = [-19,-2,-65,-5,-7,-3,-15,-1]\n",
    "\n",
    "max_sum, starti, endi, curr_sum = float('-inf'), -1, -1, l[0]\n",
    "start = 0\n",
    "for i in range(1,len(l)):\n",
    "    curr_sum += l[i]\n",
    "\n",
    "    # Only for < condition bcz = will only happen \n",
    "    # if curr_sum was zero\n",
    "    if curr_sum <= l[i]: \n",
    "        start = i\n",
    "        curr_sum = l[i]\n",
    "    \n",
    "    if max_sum < curr_sum:\n",
    "        starti = start\n",
    "        endi = i\n",
    "        max_sum = curr_sum\n",
    "\n",
    "starti, endi, max_sum\n"
   ]
  },
  {
   "attachments": {},
   "cell_type": "markdown",
   "metadata": {},
   "source": [
    "max product subarray"
   ]
  },
  {
   "cell_type": "code",
   "execution_count": 29,
   "metadata": {},
   "outputs": [
    {
     "data": {
      "text/plain": [
       "(4, 7, 1575)"
      ]
     },
     "execution_count": 29,
     "metadata": {},
     "output_type": "execute_result"
    }
   ],
   "source": [
    "l = [-19,-2,-65, 0,-5,-7,-3,-15]\n",
    "\n",
    "max_prod, starti, endi, curr_prod = float('-inf'), -1, -1, l[0]\n",
    "start = 0\n",
    "for i in range(1,len(l)):\n",
    "    curr_prod *= l[i]\n",
    "\n",
    "    if l[i] == 0: \n",
    "        start = i+1\n",
    "        curr_prod = 1\n",
    "    \n",
    "    if max_prod < curr_prod:\n",
    "        starti = start\n",
    "        endi = i\n",
    "        max_prod = curr_prod\n",
    "\n",
    "starti, endi, max_prod\n"
   ]
  },
  {
   "attachments": {},
   "cell_type": "markdown",
   "metadata": {},
   "source": [
    "#### Q-Queries\n",
    "\n",
    "Initial array is 0's<br>\n",
    "Add val from i to end in Array. [val, i] provided in Queries array"
   ]
  },
  {
   "cell_type": "code",
   "execution_count": 30,
   "metadata": {},
   "outputs": [
    {
     "data": {
      "text/plain": [
       "[2, 5, 9, 14]"
      ]
     },
     "execution_count": 30,
     "metadata": {},
     "output_type": "execute_result"
    }
   ],
   "source": [
    "n = 4\n",
    "A = [0]*n\n",
    "Q = [[2,4], [1,3], [0,2],  [3,5]]\n",
    "\n",
    "for i in Q:\n",
    "    A[i[0]] += i[1]\n",
    "\n",
    "curr_sum = 0\n",
    "for i in range(n):\n",
    "    curr_sum += A[i]\n",
    "    A[i] = curr_sum\n",
    "A"
   ]
  },
  {
   "attachments": {},
   "cell_type": "markdown",
   "metadata": {},
   "source": [
    "With START and END"
   ]
  },
  {
   "cell_type": "code",
   "execution_count": 32,
   "metadata": {},
   "outputs": [
    {
     "data": {
      "text/plain": [
       "[3, 4, 6, 7, 6, 4, 0]"
      ]
     },
     "execution_count": 32,
     "metadata": {},
     "output_type": "execute_result"
    }
   ],
   "source": [
    "n = 7\n",
    "A = [0]*n\n",
    "Q = [[2,4,2], [1,3,1], [0,2,3],  [3,5,4]]\n",
    "\n",
    "for i in Q:\n",
    "    A[i[0]] += i[2]\n",
    "    if i[1]+1 != n:\n",
    "        A[i[1]+1] -= i[2]\n",
    "\n",
    "curr_sum = 0\n",
    "for i in range(n):\n",
    "    curr_sum += A[i]\n",
    "    A[i] = curr_sum\n",
    "\n",
    "A"
   ]
  },
  {
   "attachments": {},
   "cell_type": "markdown",
   "metadata": {},
   "source": [
    "## Rain water Trapping"
   ]
  },
  {
   "cell_type": "code",
   "execution_count": 62,
   "metadata": {},
   "outputs": [
    {
     "name": "stderr",
     "output_type": "stream",
     "text": [
      "/Users/ratneshsingh/Library/Python/3.11/lib/python/site-packages/IPython/core/pylabtools.py:151: UserWarning: This figure includes Axes that are not compatible with tight_layout, so results might be incorrect.\n",
      "  fig.canvas.print_figure(bytes_io, **kw)\n"
     ]
    },
    {
     "data": {
      "image/png": "[encoded data removed]",
      "text/plain": [
       "<Figure size 700x350 with 1 Axes>"
      ]
     },
     "metadata": {},
     "output_type": "display_data"
    },
    {
     "name": "stdout",
     "output_type": "stream",
     "text": [
      "14\n",
      "14\n"
     ]
    }
   ],
   "source": [
    "A = [4,2,5,7,4,2,3,5,8,2,3,4]\n",
    "# Observations\n",
    "# Extreme left and Extreme right cant hold any water\n",
    "n = len(A)\n",
    "left_max = [0]*n\n",
    "right_max = [0]*n\n",
    "res = 0\n",
    "left_m = A[0]\n",
    "right_m = A[n-1]\n",
    "\n",
    "import matplotlib.pyplot as plt\n",
    "plt.bar(range(n), A, align='edge', width=1.0, color='black')\n",
    "plt.tight_layout()\n",
    "plt.show()\n",
    "\n",
    "for i in range(1,n-1):\n",
    "    left_m = max(left_m, A[i])\n",
    "    right_m = max(A[n-i],right_m)\n",
    "    left_max[i] = left_m\n",
    "    right_max[i] = right_m\n",
    "water = 0\n",
    "for i in range(1,n-1):\n",
    "    if min(left_max[i], right_max[i]) - A[i] > 0:\n",
    "        water += min(left_max[i], right_max[i]) - A[i]\n",
    "        res = max(res, water)\n",
    "    else:\n",
    "        water = 0\n",
    "print(res)\n",
    "\n",
    "\n"
   ]
  },
  {
   "attachments": {},
   "cell_type": "markdown",
   "metadata": {},
   "source": [
    "Optimization with total trapped water"
   ]
  },
  {
   "cell_type": "code",
   "execution_count": 91,
   "metadata": {},
   "outputs": [],
   "source": [
    "class Solution:\n",
    "    # @param A : tuple of integers\n",
    "    # @return an integer\n",
    "    def trap(self, A):\n",
    "        water, n = 0, len(A)\n",
    "        left_m, right_m = A[0], A[n-1]\n",
    "        max_val, max_index = A[0], 0\n",
    "        for i in range(n):\n",
    "            if max_val < A[i]:\n",
    "                max_val = A[i]\n",
    "                max_index = i\n",
    "        \n",
    "        for i in range(1, max_index):\n",
    "            left_m = max(left_m, A[i])\n",
    "            water += left_m - A[i]\n",
    "            \n",
    "\n",
    "        for i in range(n-1-1,max_index, -1):\n",
    "            right_m = max(right_m, A[i])\n",
    "            water += right_m - A[i]\n",
    "        \n",
    "        return water"
   ]
  },
  {
   "cell_type": "code",
   "execution_count": 92,
   "metadata": {},
   "outputs": [
    {
     "name": "stdout",
     "output_type": "stream",
     "text": [
      "9\n"
     ]
    },
    {
     "name": "stderr",
     "output_type": "stream",
     "text": [
      "/Users/ratneshsingh/Library/Python/3.11/lib/python/site-packages/IPython/core/pylabtools.py:151: UserWarning: This figure includes Axes that are not compatible with tight_layout, so results might be incorrect.\n",
      "  fig.canvas.print_figure(bytes_io, **kw)\n"
     ]
    },
    {
     "data": {
      "image/png": "[encoded data removed]",
      "text/plain": [
       "<Figure size 700x350 with 1 Axes>"
      ]
     },
     "metadata": {},
     "output_type": "display_data"
    }
   ],
   "source": [
    "A = [4,2,0,3,2,5]\n",
    "print(Solution().trap(A))\n",
    "\n",
    "import matplotlib.pyplot as plt\n",
    "plt.bar(range(len(A)), A, align='edge', width=1.0, color='black')\n",
    "plt.tight_layout()\n",
    "plt.show()"
   ]
  },
  {
   "cell_type": "code",
   "execution_count": 85,
   "metadata": {},
   "outputs": [
    {
     "data": {
      "text/plain": [
       "100"
      ]
     },
     "execution_count": 85,
     "metadata": {},
     "output_type": "execute_result"
    }
   ],
   "source": [
    "max(A)"
   ]
  },
  {
   "cell_type": "code",
   "execution_count": null,
   "metadata": {},
   "outputs": [],
   "source": []
  }
 ],
 "metadata": {
  "kernelspec": {
   "display_name": "Python 3",
   "language": "python",
   "name": "python3"
  },
  "language_info": {
   "codemirror_mode": {
    "name": "ipython",
    "version": 3
   },
   "file_extension": ".py",
   "mimetype": "text/x-python",
   "name": "python",
   "nbconvert_exporter": "python",
   "pygments_lexer": "ipython3",
   "version": "3.11.0"
  },
  "orig_nbformat": 4
 },
 "nbformat": 4,
 "nbformat_minor": 2
}
