{
 "cells": [
  {
   "attachments": {},
   "cell_type": "markdown",
   "metadata": {},
   "source": [
    "# Two Pointers"
   ]
  },
  {
   "attachments": {},
   "cell_type": "markdown",
   "metadata": {},
   "source": [
    "#### 11. Container With Most Water\n",
    "\n",
    "\n",
    "<div class=\"_1l1MA\" data-track-load=\"qd_description_content\"><p>You are given an integer array <code>height</code> of length <code>n</code>. There are <code>n</code> vertical lines drawn such that the two endpoints of the <code>i<sup>th</sup></code> line are <code>(i, 0)</code> and <code>(i, height[i])</code>.</p>\n",
    "\n",
    "<p>Find two lines that together with the x-axis form a container, such that the container contains the most water.</p>\n",
    "\n",
    "<p>Return <em>the maximum amount of water a container can store</em>.</p>\n",
    "\n",
    "<p><strong>Notice</strong> that you may not slant the container.</p>\n",
    "\n",
    "<p>&nbsp;</p>\n",
    "<p><strong class=\"example\">Example 1:</strong></p>\n",
    "<img alt=\"\" src=\"https://s3-lc-upload.s3.amazonaws.com/uploads/2018/07/17/question_11.jpg\" style=\"width: 600px; height: 287px;\">\n",
    "<pre><strong>Input:</strong> height = [1,8,6,2,5,4,8,3,7]\n",
    "<strong>Output:</strong> 49\n",
    "<strong>Explanation:</strong> The above vertical lines are represented by array [1,8,6,2,5,4,8,3,7]. In this case, the max area of water (blue section) the container can contain is 49.\n",
    "</pre>\n",
    "\n",
    "<p><strong class=\"example\">Example 2:</strong></p>\n",
    "\n",
    "<pre><strong>Input:</strong> height = [1,1]\n",
    "<strong>Output:</strong> 1\n",
    "</pre>\n",
    "\n",
    "<p>&nbsp;</p>\n",
    "<p><strong>Constraints:</strong></p>\n",
    "\n",
    "<ul>\n",
    "\t<li><code>n == height.length</code></li>\n",
    "\t<li><code>2 &lt;= n &lt;= 10<sup>5</sup></code></li>\n",
    "\t<li><code>0 &lt;= height[i] &lt;= 10<sup>4</sup></code></li>\n",
    "</ul>\n",
    "</div>"
   ]
  },
  {
   "cell_type": "code",
   "execution_count": 8,
   "metadata": {},
   "outputs": [],
   "source": [
    "class Solution:\n",
    "    def maxArea(self, height: list[int]) -> int:\n",
    "        left, right, n = 0, len(height)-1, len(height)-1\n",
    "        if n < 1:\n",
    "            return 0\n",
    "        \n",
    "        max_water = 0\n",
    "        while left <= right:\n",
    "            max_water = max(min(height[left], height[right])*(right-left), max_water)\n",
    "\n",
    "            if height[left] > height[right]:\n",
    "                right -= 1\n",
    "            elif height[left] < height[right]:\n",
    "                left += 1\n",
    "            else:\n",
    "                right -= 1\n",
    "                left += 1\n",
    "        return max_water"
   ]
  },
  {
   "cell_type": "code",
   "execution_count": 9,
   "metadata": {},
   "outputs": [
    {
     "data": {
      "text/plain": [
       "1"
      ]
     },
     "execution_count": 9,
     "metadata": {},
     "output_type": "execute_result"
    }
   ],
   "source": [
    "Solution().maxArea([1,1])"
   ]
  },
  {
   "attachments": {},
   "cell_type": "markdown",
   "metadata": {},
   "source": [
    "## Hashing"
   ]
  },
  {
   "attachments": {},
   "cell_type": "markdown",
   "metadata": {},
   "source": [
    "<div class=\"html-content__container cr-p-statement\"><p><strong>Problem Description</strong><br> \n",
    " </p>\n",
    "<div id=\"problem_description_markdown_content_value\" style=\"background-color: #f9f9f9; padding: 5px 10px; \"><p>Shaggy has an array <strong>A</strong> consisting of N elements. We call a pair of distinct indices in that array a special if elements at those indices in the array are equal.</p>\n",
    "<p> </p>\n",
    "<p>Shaggy wants you to find a special pair such that the distance between that pair is minimum. Distance between two indices is defined as |i-j|. If there is no special pair in the array, then return -1.</p></div>\n",
    "<p><br><br><strong>Problem Constraints</strong><br> \n",
    " </p>\n",
    "<div id=\"problem_constraints_markdown_content_value\" style=\"background-color: #f9f9f9; padding: 5px 10px; \"><p>1 &lt;= |A| &lt;= 10<sup>5</sup></p></div>\n",
    "<p><br><br><strong>Input Format</strong><br> \n",
    " </p>\n",
    "<div id=\"input_format_markdown_content_value\" style=\"background-color: #f9f9f9; padding: 5px 10px; \"><p>The first and only argument is an integer array A.</p></div>\n",
    "<p><br><br><strong>Output Format</strong><br> \n",
    " </p>\n",
    "<div id=\"output_format_markdown_content_value\" style=\"background-color: #f9f9f9; padding: 5px 10px; \"><p>Return one integer corresponding to the minimum possible distance between a special pair.</p></div>\n",
    "<p><br><br><strong>Example Input</strong><br> \n",
    " </p>\n",
    "<div id=\"example_input_markdown_content_value\" style=\"background-color: #f9f9f9; padding: 5px 10px; \"><p>Input 1:</p>\n",
    "<pre>A = [7, 1, 3, 4, 1, 7]\n",
    "</pre>\n",
    "<p></p>\n",
    "<p></p>\n",
    "<p>Input 2:</p>\n",
    "<pre>A = [1, 1]\n",
    "</pre></div>\n",
    "<p><br><br><strong>Example Output</strong><br> \n",
    " </p>\n",
    "<div id=\"example_output_markdown_content_value\" style=\"background-color: #f9f9f9; padding: 5px 10px; \"><p>Output 1:</p>\n",
    "<pre> 3\n",
    "</pre>\n",
    "<p></p>\n",
    "<p></p>\n",
    "<p>Output 2:</p>\n",
    "<pre> 1\n",
    "</pre></div>\n",
    "<p><br><br><strong>Example Explanation</strong><br> \n",
    " </p>\n",
    "<div id=\"example_explanation_markdown_content_value\" style=\"background-color: #f9f9f9; padding: 5px 10px; \"><p>Explanation 1:</p>\n",
    "<pre>Here we have 2 options:\n",
    "1. A[1] and A[4] are both 1 so (1,4) is a special pair and |1-4|=3.\n",
    "2. A[0] and A[5] are both 7 so (0,5) is a special pair and |0-5|=5.\n",
    "Therefore the minimum possible distance is 3. \n",
    "</pre>\n",
    "<p></p>\n",
    "<p></p>\n",
    "<p>Explanation 2:</p>\n",
    "<pre>Only possibility is choosing A[1] and A[2].\n",
    "</pre></div>\n",
    "<p><br><br></p></div>"
   ]
  },
  {
   "cell_type": "code",
   "execution_count": 1,
   "metadata": {},
   "outputs": [
    {
     "data": {
      "text/plain": [
       "3"
      ]
     },
     "execution_count": 1,
     "metadata": {},
     "output_type": "execute_result"
    }
   ],
   "source": [
    "class Solution:\n",
    "    # @param A : list of integers\n",
    "    # @return an integer\n",
    "    def solve(self, A):\n",
    "        d = {}\n",
    "        min_index = float('inf')\n",
    "        for i in range(len(A)):\n",
    "            if A[i] in d:\n",
    "                min_index = min(i - d[A[i]], min_index)\n",
    "            else:\n",
    "                d[A[i]] = i\n",
    "        \n",
    "        return -1 if min_index > len(A) else min_index\n",
    "\n",
    "\n",
    "Solution().solve([7, 1, 3, 4, 1, 7])"
   ]
  },
  {
   "attachments": {},
   "cell_type": "markdown",
   "metadata": {},
   "source": [
    "#### Q3. Sub-array with 0 sum\n",
    "\n",
    "<div class=\"html-content__container cr-p-statement\"><p><strong>Problem Description</strong><br> \n",
    " </p>\n",
    "<div id=\"problem_description_markdown_content_value\" style=\"background-color: #f9f9f9; padding: 5px 10px; \"><p>Given an array of integers <strong>A</strong>, find and return whether the given array contains a non-empty subarray with a sum equal to 0.</p>\n",
    "<p>If the given array contains a sub-array with sum zero return 1, else return 0.</p>\n",
    "<p> </p></div>\n",
    "<p><br><br><strong>Problem Constraints</strong><br> \n",
    " </p>\n",
    "<div id=\"problem_constraints_markdown_content_value\" style=\"background-color: #f9f9f9; padding: 5px 10px; \"><p>1 &lt;= |A| &lt;= 100000</p>\n",
    "<p>-10^9 &lt;= A[i] &lt;= 10^9</p>\n",
    "<p> </p></div>\n",
    "<p><br><br><strong>Input Format</strong><br> \n",
    " </p>\n",
    "<div id=\"input_format_markdown_content_value\" style=\"background-color: #f9f9f9; padding: 5px 10px; \"><p> The only argument given is the integer array A. </p></div>\n",
    "<p><br><br><strong>Output Format</strong><br> \n",
    " </p>\n",
    "<div id=\"output_format_markdown_content_value\" style=\"background-color: #f9f9f9; padding: 5px 10px; \"><p>Return whether the given array contains a subarray with a sum equal to 0.</p></div>\n",
    "<p><br><br><strong>Example Input</strong><br> \n",
    " </p>\n",
    "<div id=\"example_input_markdown_content_value\" style=\"background-color: #f9f9f9; padding: 5px 10px; \"><p>Input 1:</p>\n",
    "<p>  </p>\n",
    "<pre> A = [1, 2, 3, 4, 5]\n",
    "</pre>\n",
    "<p> </p>\n",
    "<p> </p>\n",
    "<p>Input 2:</p>\n",
    "<p> </p>\n",
    "<p> </p>\n",
    "<p> </p>\n",
    "<p> </p>\n",
    "<p> </p>\n",
    "<p> </p>\n",
    "<p> </p>\n",
    "<p> </p>\n",
    "<p> </p>\n",
    "<p> </p>\n",
    "<p> </p>\n",
    "<p> </p>\n",
    "<p> </p>\n",
    "<p> </p>\n",
    "<p> </p>\n",
    "<p> </p>\n",
    "<pre> A = [-1, 1]\n",
    "</pre>\n",
    "<p> </p>\n",
    "<p> </p>\n",
    "<p> </p>\n",
    "<p> </p>\n",
    "<p> </p>\n",
    "<p> </p>\n",
    "<p> </p>\n",
    "<p> </p>\n",
    "<p> </p></div>\n",
    "<p><br><br><strong>Example Output</strong><br> \n",
    " </p>\n",
    "<div id=\"example_output_markdown_content_value\" style=\"background-color: #f9f9f9; padding: 5px 10px; \"><p>Output 1:</p><p></p><p></p><p></p><p></p><p></p><p></p><p></p><p></p><p></p>\n",
    "<pre> 0\n",
    "</pre>\n",
    "<p></p>\n",
    "<p></p>\n",
    "<p>Output 2:</p>\n",
    "<p></p>\n",
    "<p></p>\n",
    "<p></p>\n",
    "<p></p><p></p><p></p>\n",
    "<pre> 1\n",
    "</pre>\n",
    "<p></p></div>\n",
    "<p><br><br><strong>Example Explanation</strong><br> \n",
    " </p>\n",
    "<div id=\"example_explanation_markdown_content_value\" style=\"background-color: #f9f9f9; padding: 5px 10px; \"><p>Explanation 1:</p><p></p><p></p><p></p><p></p><p></p><p></p><p></p><p></p><p></p>\n",
    "<pre> No subarray has sum 0.\n",
    "</pre>\n",
    "<p></p>\n",
    "<p></p>\n",
    "<p>Explanation 2:</p>\n",
    "<p></p>\n",
    "<p></p><p></p><p></p>\n",
    "<pre> The array has sum 0.\n",
    "</pre>\n",
    "<p></p></div>\n",
    "<p><br><br></p></div>"
   ]
  },
  {
   "cell_type": "code",
   "execution_count": null,
   "metadata": {},
   "outputs": [],
   "source": [
    "# Do not write code to include libraries, main() function or accept any input from the console.\n",
    "# Initialization code is already written and hidden from you. Do not write code for it again.\n",
    "class Solution:\n",
    "    # @param A : list of integers\n",
    "    # @return an integer\n",
    "    def solve(self, A):\n",
    "        # Just write your code below to complete the function. Required input is available to you as the function arguments.\n",
    "        # Do not print the result or any output. Just return the result via this function.\n",
    "        pfs = [0]*(len(A)+1)\n",
    "        csum = 0\n",
    "        for i in range(len(A)):\n",
    "            csum += A[i]\n",
    "            pfs[i+1] = csum\n",
    "        \n",
    "        for j in range(len(n)):\n",
    "\n",
    "\n",
    "\n",
    "\n",
    "\n",
    "\n",
    "Solution().solve([1, 2, 3, 4, 5])"
   ]
  },
  {
   "cell_type": "code",
   "execution_count": null,
   "metadata": {},
   "outputs": [],
   "source": [
    "Solution().solve([-1,-1])"
   ]
  },
  {
   "cell_type": "code",
   "execution_count": null,
   "metadata": {},
   "outputs": [],
   "source": []
  },
  {
   "cell_type": "code",
   "execution_count": null,
   "metadata": {},
   "outputs": [],
   "source": []
  },
  {
   "cell_type": "code",
   "execution_count": 41,
   "metadata": {},
   "outputs": [],
   "source": [
    "class Solution:\n",
    "    # @param A : integer\n",
    "    # @param B : integer\n",
    "    # @param C : integer\n",
    "    # @return an integer\n",
    "    def solve(self, A, B, C):\n",
    "\n",
    "        def number_(num, B, C):\n",
    "            return num//B + num//C - num//LCM(B,C)\n",
    "            \n",
    "        def GCD(x, y):\n",
    "            while(y):\n",
    "                x, y = y, x % y\n",
    "            return x\n",
    "    \n",
    "        def LCM(x, y):\n",
    "            return (x*y)//GCD(x,y)\n",
    "\n",
    "        m = 1000000007\n",
    "        res, left, right = -1, min(B,C), max(A*B, A*C)\n",
    "        while left <= right:\n",
    "            mid = (left+right)//2\n",
    "            mid_magic_num = number_(mid, B, C)\n",
    "            if mid_magic_num < A:\n",
    "                left = mid + 1\n",
    "            else:\n",
    "                right = mid - 1\n",
    "                if mid_magic_num == A:\n",
    "                    res = mid\n",
    "        return res%m"
   ]
  },
  {
   "cell_type": "code",
   "execution_count": 42,
   "metadata": {},
   "outputs": [
    {
     "data": {
      "text/plain": [
       "117"
      ]
     },
     "execution_count": 42,
     "metadata": {},
     "output_type": "execute_result"
    }
   ],
   "source": [
    "Solution().solve(19,11,13)"
   ]
  },
  {
   "cell_type": "code",
   "execution_count": null,
   "metadata": {},
   "outputs": [],
   "source": []
  },
  {
   "cell_type": "code",
   "execution_count": null,
   "metadata": {},
   "outputs": [],
   "source": []
  }
 ],
 "metadata": {
  "kernelspec": {
   "display_name": "Python 3",
   "language": "python",
   "name": "python3"
  },
  "language_info": {
   "codemirror_mode": {
    "name": "ipython",
    "version": 3
   },
   "file_extension": ".py",
   "mimetype": "text/x-python",
   "name": "python",
   "nbconvert_exporter": "python",
   "pygments_lexer": "ipython3",
   "version": "3.11.0"
  },
  "orig_nbformat": 4
 },
 "nbformat": 4,
 "nbformat_minor": 2
}
