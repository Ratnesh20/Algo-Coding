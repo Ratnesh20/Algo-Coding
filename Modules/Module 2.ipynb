{
 "cells": [
  {
   "attachments": {},
   "cell_type": "markdown",
   "metadata": {},
   "source": [
    "# Two Pointers"
   ]
  },
  {
   "attachments": {},
   "cell_type": "markdown",
   "metadata": {},
   "source": [
    "#### 11. Container With Most Water\n",
    "\n",
    "\n",
    "<div class=\"_1l1MA\" data-track-load=\"qd_description_content\"><p>You are given an integer array <code>height</code> of length <code>n</code>. There are <code>n</code> vertical lines drawn such that the two endpoints of the <code>i<sup>th</sup></code> line are <code>(i, 0)</code> and <code>(i, height[i])</code>.</p>\n",
    "\n",
    "<p>Find two lines that together with the x-axis form a container, such that the container contains the most water.</p>\n",
    "\n",
    "<p>Return <em>the maximum amount of water a container can store</em>.</p>\n",
    "\n",
    "<p><strong>Notice</strong> that you may not slant the container.</p>\n",
    "\n",
    "<p>&nbsp;</p>\n",
    "<p><strong class=\"example\">Example 1:</strong></p>\n",
    "<img alt=\"\" src=\"https://s3-lc-upload.s3.amazonaws.com/uploads/2018/07/17/question_11.jpg\" >\n",
    "<pre><strong>Input:</strong> height = [1,8,6,2,5,4,8,3,7]\n",
    "<strong>Output:</strong> 49\n",
    "<strong>Explanation:</strong> The above vertical lines are represented by array [1,8,6,2,5,4,8,3,7]. In this case,<br> the max area of water (blue section) the container can contain is 49.\n",
    "</pre>\n",
    "\n",
    "<p><strong class=\"example\">Example 2:</strong></p>\n",
    "\n",
    "<pre><strong>Input:</strong> height = [1,1]\n",
    "<strong>Output:</strong> 1\n",
    "</pre>\n",
    "\n",
    "<p>&nbsp;</p>\n",
    "<p><strong>Constraints:</strong></p>\n",
    "\n",
    "<ul>\n",
    "\t<li><code>n == height.length</code></li>\n",
    "\t<li><code>2 &lt;= n &lt;= 10<sup>5</sup></code></li>\n",
    "\t<li><code>0 &lt;= height[i] &lt;= 10<sup>4</sup></code></li>\n",
    "</ul>\n",
    "</div>"
   ]
  },
  {
   "cell_type": "code",
   "execution_count": 8,
   "metadata": {},
   "outputs": [],
   "source": [
    "class Solution:\n",
    "    def maxArea(self, height: list[int]) -> int:\n",
    "        left, right, n = 0, len(height)-1, len(height)-1\n",
    "        if n < 1:\n",
    "            return 0\n",
    "        \n",
    "        max_water = 0\n",
    "        while left <= right:\n",
    "            max_water = max(min(height[left], height[right])*(right-left), max_water)\n",
    "\n",
    "            if height[left] > height[right]:\n",
    "                right -= 1\n",
    "            elif height[left] < height[right]:\n",
    "                left += 1\n",
    "            else:\n",
    "                right -= 1\n",
    "                left += 1\n",
    "        return max_water"
   ]
  },
  {
   "cell_type": "code",
   "execution_count": 9,
   "metadata": {},
   "outputs": [
    {
     "data": {
      "text/plain": [
       "1"
      ]
     },
     "execution_count": 9,
     "metadata": {},
     "output_type": "execute_result"
    }
   ],
   "source": [
    "Solution().maxArea([1,1])"
   ]
  },
  {
   "attachments": {},
   "cell_type": "markdown",
   "metadata": {},
   "source": [
    "## Hashing"
   ]
  },
  {
   "attachments": {},
   "cell_type": "markdown",
   "metadata": {},
   "source": [
    "<div class=\"html-content__container cr-p-statement\"><p><strong>Problem Description</strong><br> \n",
    " </p>\n",
    "<div id=\"problem_description_markdown_content_value\" ><p>Shaggy has an array <strong>A</strong> consisting of N elements. We call a pair of distinct indices in that array a special if elements at those indices in the array are equal.</p>\n",
    "\n",
    "<p>Shaggy wants you to find a special pair such that the distance between that pair is minimum. Distance between two indices is defined as |i-j|. If there is no special pair in the array, then return -1.</p></div>\n",
    "<p><br><br><strong>Problem Constraints</strong><br> \n",
    " </p>\n",
    "<div id=\"problem_constraints_markdown_content_value\" ><p>1 &lt;= |A| &lt;= 10<sup>5</sup></p></div>\n",
    "<p><br><br><strong>Input Format</strong><br> \n",
    " </p>\n",
    "<div id=\"input_format_markdown_content_value\" ><p>The first and only argument is an integer array A.</p></div>\n",
    "<p><br><br><strong>Output Format</strong><br> \n",
    " </p>\n",
    "<div id=\"output_format_markdown_content_value\" ><p>Return one integer corresponding to the minimum possible distance between a special pair.</p></div>\n",
    "<p><br><br><strong>Example Input</strong><br> \n",
    " </p>\n",
    "<div id=\"example_input_markdown_content_value\" ><p>Input 1:</p>\n",
    "<pre>A = [7, 1, 3, 4, 1, 7]\n",
    "</pre>\n",
    "\n",
    "\n",
    "<p>Input 2:</p>\n",
    "<pre>A = [1, 1]\n",
    "</pre></div>\n",
    "<p><br><br><strong>Example Output</strong><br> \n",
    " </p>\n",
    "<div id=\"example_output_markdown_content_value\" ><p>Output 1:</p>\n",
    "<pre> 3\n",
    "</pre>\n",
    "\n",
    "\n",
    "<p>Output 2:</p>\n",
    "<pre> 1\n",
    "</pre></div>\n",
    "<p><br><br><strong>Example Explanation</strong><br> \n",
    " </p>\n",
    "<div id=\"example_explanation_markdown_content_value\" ><p>Explanation 1:</p>\n",
    "<pre>Here we have 2 options:\n",
    "1. A[1] and A[4] are both 1 so (1,4) is a special pair and |1-4|=3.\n",
    "2. A[0] and A[5] are both 7 so (0,5) is a special pair and |0-5|=5.\n",
    "Therefore the minimum possible distance is 3. \n",
    "</pre>\n",
    "\n",
    "\n",
    "<p>Explanation 2:</p>\n",
    "<pre>Only possibility is choosing A[1] and A[2].\n",
    "</pre></div>\n",
    "<p><br><br></p></div>"
   ]
  },
  {
   "cell_type": "code",
   "execution_count": 1,
   "metadata": {},
   "outputs": [
    {
     "data": {
      "text/plain": [
       "3"
      ]
     },
     "execution_count": 1,
     "metadata": {},
     "output_type": "execute_result"
    }
   ],
   "source": [
    "class Solution:\n",
    "    # @param A : list of integers\n",
    "    # @return an integer\n",
    "    def solve(self, A):\n",
    "        d = {}\n",
    "        min_index = float('inf')\n",
    "        for i in range(len(A)):\n",
    "            if A[i] in d:\n",
    "                min_index = min(i - d[A[i]], min_index)\n",
    "            else:\n",
    "                d[A[i]] = i\n",
    "        \n",
    "        return -1 if min_index > len(A) else min_index\n",
    "\n",
    "\n",
    "Solution().solve([7, 1, 3, 4, 1, 7])"
   ]
  },
  {
   "attachments": {},
   "cell_type": "markdown",
   "metadata": {},
   "source": [
    "#### Q3. Sub-array with 0 sum\n",
    "\n",
    "<div class=\"html-content__container cr-p-statement\"><p><strong>Problem Description</strong><br> \n",
    " </p>\n",
    "<div id=\"problem_description_markdown_content_value\" ><p>Given an array of integers <strong>A</strong>, find and return whether the given array contains a non-empty subarray with a sum equal to 0.</p>\n",
    "<p>If the given array contains a sub-array with sum zero return 1, else return 0.</p>\n",
    "</div>\n",
    "<p><br><br><strong>Problem Constraints</strong><br> \n",
    " </p>\n",
    "<div id=\"problem_constraints_markdown_content_value\" ><p>1 &lt;= |A| &lt;= 100000</p>\n",
    "<p>-10^9 &lt;= A[i] &lt;= 10^9</p>\n",
    "</div>\n",
    "<p><br><br><strong>Input Format</strong><br> \n",
    " </p>\n",
    "<div id=\"input_format_markdown_content_value\" ><p> The only argument given is the integer array A. </p></div>\n",
    "<p><br><br><strong>Output Format</strong><br> \n",
    " </p>\n",
    "<div id=\"output_format_markdown_content_value\" ><p>Return whether the given array contains a subarray with a sum equal to 0.</p></div>\n",
    "<p><br><br><strong>Example Input</strong><br> \n",
    " </p>\n",
    "<div id=\"example_input_markdown_content_value\" ><p>Input 1:</p>\n",
    "<p>  </p>\n",
    "<pre> A = [1, 2, 3, 4, 5]\n",
    "</pre>\n",
    "\n",
    "\n",
    "<p>Input 2:</p>\n",
    "\n",
    "\n",
    "\n",
    "\n",
    "\n",
    "\n",
    "\n",
    "\n",
    "\n",
    "\n",
    "\n",
    "\n",
    "\n",
    "\n",
    "\n",
    "\n",
    "<pre> A = [-1, 1]\n",
    "</pre>\n",
    "\n",
    "\n",
    "\n",
    "\n",
    "\n",
    "\n",
    "\n",
    "\n",
    "</div>\n",
    "<p><br><br><strong>Example Output</strong><br> \n",
    " </p>\n",
    "<div id=\"example_output_markdown_content_value\" ><p>Output 1:</p>\n",
    "<pre> 0\n",
    "</pre>\n",
    "\n",
    "\n",
    "<p>Output 2:</p>\n",
    "\n",
    "\n",
    "\n",
    "\n",
    "<pre> 1\n",
    "</pre>\n",
    "</div>\n",
    "<p><br><br><strong>Example Explanation</strong><br> \n",
    " </p>\n",
    "<div id=\"example_explanation_markdown_content_value\" ><p>Explanation 1:</p>\n",
    "<pre> No subarray has sum 0.\n",
    "</pre>\n",
    "\n",
    "\n",
    "<p>Explanation 2:</p>\n",
    "\n",
    "\n",
    "<pre> The array has sum 0.\n",
    "</pre>\n",
    "</div>\n",
    "<p><br><br></p></div>"
   ]
  },
  {
   "cell_type": "code",
   "execution_count": 12,
   "metadata": {},
   "outputs": [
    {
     "data": {
      "text/plain": [
       "0"
      ]
     },
     "execution_count": 12,
     "metadata": {},
     "output_type": "execute_result"
    }
   ],
   "source": [
    "# Do not write code to include libraries, main() function or accept any input from the console.\n",
    "# Initialization code is already written and hidden from you. Do not write code for it again.\n",
    "class Solution:\n",
    "    # @param A : list of integers\n",
    "    # @return an integer\n",
    "    def solve(self, A):\n",
    "        # Just write your code below to complete the function. Required input is available to you as the function arguments.\n",
    "        # Do not print the result or any output. Just return the result via this function.\n",
    "        d = {}\n",
    "        curr_sum = 0\n",
    "        for x in A:\n",
    "            curr_sum += x\n",
    "            if curr_sum == 0 or x == 0 or curr_sum in d:\n",
    "                return 1\n",
    "            else:\n",
    "                d[curr_sum] = 1\n",
    "        return 0\n",
    "\n",
    "Solution().solve([1, 2, 3, 4, 5])"
   ]
  },
  {
   "cell_type": "code",
   "execution_count": 13,
   "metadata": {},
   "outputs": [
    {
     "data": {
      "text/plain": [
       "1"
      ]
     },
     "execution_count": 13,
     "metadata": {},
     "output_type": "execute_result"
    }
   ],
   "source": [
    "Solution().solve([-1,1])"
   ]
  },
  {
   "attachments": {},
   "cell_type": "markdown",
   "metadata": {},
   "source": [
    "#### Q1. Longest Consecutive Sequence\n",
    "\n",
    "<div class=\"html-content\"><div class=\"html-content__container cr-p-statement\"><p><strong>Problem Description</strong><br> \n",
    " </p>\n",
    "<div id=\"problem_description_markdown_content_value\" ><p>Given an unsorted integer array <strong>A</strong> of size N.</p>\n",
    "\n",
    "<p>Find the length of the longest set of consecutive elements from array A.</p>\n",
    "</div>\n",
    "<p><br><br><strong>Problem Constraints</strong><br> \n",
    " </p>\n",
    "<div id=\"problem_constraints_markdown_content_value\" ><p>1 &lt;= N &lt;= 10<sup>6</sup></p>\n",
    "<p>-10<sup>6</sup> &lt;= A[i] &lt;= 10<sup>6</sup></p>\n",
    "</div>\n",
    "<p><br><br><strong>Input Format</strong><br> \n",
    " </p>\n",
    "<div id=\"input_format_markdown_content_value\" ><p>First argument is an integer array A of size N.</p></div>\n",
    "<p><br><br><strong>Output Format</strong><br> \n",
    " </p>\n",
    "<div id=\"output_format_markdown_content_value\" ><p> Return an integer denoting the length of the longest set of consecutive elements from the array A.</p></div>\n",
    "<p><br><br><strong>Example Input</strong><br> \n",
    " </p>\n",
    "<div id=\"example_input_markdown_content_value\" ><p>Input 1:</p>\n",
    "<pre>A = [100, 4, 200, 1, 3, 2]\n",
    "</pre>\n",
    "\n",
    "\n",
    "<p>Input 2:</p>\n",
    "<pre>A = [2, 1]\n",
    "</pre>\n",
    "</div>\n",
    "<p><br><br><strong>Example Output</strong><br> \n",
    " </p>\n",
    "<div id=\"example_output_markdown_content_value\" ><p>Output 1:</p>\n",
    "<pre> 4\n",
    "</pre>\n",
    "\n",
    "\n",
    "<p>Output 2:</p>\n",
    "<pre> 2\n",
    "</pre>\n",
    "</div>\n",
    "<p><br><br><strong>Example Explanation</strong><br> \n",
    " </p>\n",
    "<div id=\"example_explanation_markdown_content_value\" ><p>Explanation 1:</p>\n",
    "<pre> The set of consecutive elements will be [1, 2, 3, 4].\n",
    "</pre>\n",
    "<p>Explanation 2:</p>\n",
    "<pre> The set of consecutive elements will be [1, 2].\n",
    "</pre>\n",
    "</div>\n",
    "</div></div>"
   ]
  },
  {
   "cell_type": "code",
   "execution_count": null,
   "metadata": {},
   "outputs": [],
   "source": [
    "class Solution:\n",
    "\t# @param A : tuple of integers\n",
    "\t# @return an integer\n",
    "\tdef longestConsecutive(self, A):\n",
    "\t\td = {}\n",
    "\t\tn = len(A)\n",
    "\t\tcount, i = 0, 0\n",
    "\t\twhile i < n:\n"
   ]
  },
  {
   "cell_type": "code",
   "execution_count": null,
   "metadata": {},
   "outputs": [],
   "source": []
  },
  {
   "cell_type": "code",
   "execution_count": 14,
   "metadata": {},
   "outputs": [],
   "source": [
    "class Solution:\n",
    "    # @param A : integer\n",
    "    # @param B : integer\n",
    "    # @param C : integer\n",
    "    # @return an integer\n",
    "    def solve(self, A, B, C):\n",
    "\n",
    "        def number_(num, B, C):\n",
    "            return num//B + num//C - num//LCM(B,C)\n",
    "            \n",
    "        def GCD(x, y):\n",
    "            while(y):\n",
    "                x, y = y, x % y\n",
    "            return x\n",
    "    \n",
    "        def LCM(x, y):\n",
    "            return (x*y)//GCD(x,y)\n",
    "\n",
    "        m = 1000000007\n",
    "        res, left, right = -1, min(B,C), max(A*B, A*C)\n",
    "        while left <= right:\n",
    "            mid = (left+right)//2\n",
    "            mid_magic_num = number_(mid, B, C)\n",
    "            if mid_magic_num < A:\n",
    "                left = mid + 1\n",
    "            else:\n",
    "                right = mid - 1\n",
    "                if mid_magic_num == A:\n",
    "                    res = mid\n",
    "        return res%m"
   ]
  },
  {
   "cell_type": "code",
   "execution_count": 15,
   "metadata": {},
   "outputs": [
    {
     "data": {
      "text/plain": [
       "117"
      ]
     },
     "execution_count": 15,
     "metadata": {},
     "output_type": "execute_result"
    }
   ],
   "source": [
    "Solution().solve(19,11,13)"
   ]
  },
  {
   "attachments": {},
   "cell_type": "markdown",
   "metadata": {},
   "source": [
    "# IMP"
   ]
  },
  {
   "cell_type": "code",
   "execution_count": 7,
   "metadata": {},
   "outputs": [
    {
     "data": {
      "text/plain": [
       "6"
      ]
     },
     "execution_count": 7,
     "metadata": {},
     "output_type": "execute_result"
    }
   ],
   "source": [
    "def count_rectangles(A, B):\n",
    "    point_counts = {}\n",
    "    for i in range(len(A)):\n",
    "        x, y = A[i], B[i]\n",
    "        if (x, y) not in point_counts:\n",
    "            point_counts[(x, y)] = 0\n",
    "        point_counts[(x, y)] += 1\n",
    "\n",
    "    count = 0\n",
    "    for i in range(len(A)):\n",
    "        for j in range(i+1, len(A)):\n",
    "            if A[i] != A[j] and B[i] != B[j]:\n",
    "                x1, y1 = A[i], B[j]\n",
    "                x2, y2 = A[j], B[i]\n",
    "                if (x1, y1) in point_counts and (x2, y2) in point_counts:\n",
    "                    count1 = point_counts[(x1, y1)]\n",
    "                    count2 = point_counts[(x2, y2)]\n",
    "                    if (x1, y2) in point_counts:\n",
    "                        count3 = point_counts[(x1, y2)]\n",
    "                    else:\n",
    "                        count3 = 0\n",
    "                    if (x2, y1) in point_counts:\n",
    "                        count4 = point_counts[(x2, y1)]\n",
    "                    else:\n",
    "                        count4 = 0\n",
    "                    count += count1 * count2 * count3 * count4\n",
    "\n",
    "    return count//2\n",
    "\n",
    "\n",
    "count_rectangles(\n",
    "    A = [ 38, 36, 48, 42, 36, 56, 38, 48, 40, 24, 48, 32, 22, 54, 22, 42, 34, 54, 52, 36, 52, 38, 36, 30, 30, 44, 46, 58, 56, 52, 48, 34, 36, 42, 50, 34, 28, 44, 44, 60, 56, 32, 48, 22, 56, 38, 42 ],\n",
    "    B = [ 58, 42, 30, 60, 50, 42, 40, 24, 54, 28, 52, 54, 28, 32, 42, 54, 38, 38, 54, 24, 30, 60, 44, 40, 26, 56, 28, 60, 34, 50, 48, 28, 56, 34, 48, 26, 30, 22, 52, 36, 24, 50, 42, 58, 54, 54, 48 ]\n",
    ")"
   ]
  },
  {
   "attachments": {},
   "cell_type": "markdown",
   "metadata": {},
   "source": [
    "### Q4. Permutations of A in B\n",
    "\n",
    "<div class=\"html-content__container cr-p-statement\"><p><strong>Problem Description</strong><br> \n",
    " </p>\n",
    "<div id=\"problem_description_markdown_content_value\" ><p>You are given two strings, <strong>A</strong> and <strong>B,</strong> of size <strong>N</strong> and <strong>M,</strong> respectively.</p>\n",
    "<p>You have to find the <strong>count of all permutations of A present in B as a substring</strong>. You can assume a string will have only lowercase letters.</p>\n",
    "</div>\n",
    "<p><br><br><strong>Problem Constraints</strong><br> \n",
    " </p>\n",
    "<div id=\"problem_constraints_markdown_content_value\" ><p>1 &lt;= N &lt; M &lt;= 10<sup>5</sup></p></div>\n",
    "<p><br><br><strong>Input Format</strong><br> \n",
    " </p>\n",
    "<div id=\"input_format_markdown_content_value\" ><p>Given two arguments, A and B of type String.</p></div>\n",
    "<p><br><br><strong>Output Format</strong><br> \n",
    " </p>\n",
    "<div id=\"output_format_markdown_content_value\" ><p>Return a single integer, i.e., number of permutations of A present in B as a substring.</p></div>\n",
    "<p><br><br><strong>Example Input</strong><br> \n",
    " </p>\n",
    "<div id=\"example_input_markdown_content_value\" ><p>Input 1:</p>\n",
    "<pre> A = \"abc\"\n",
    " B = \"abcbacabc\"</pre>\n",
    "<p>Input 2:</p>\n",
    "<pre> A = \"aca\"\n",
    " B = \"acaa\"</pre>\n",
    "\n",
    "\n",
    "</div>\n",
    "<p><br><br><strong>Example Output</strong><br> \n",
    " </p>\n",
    "<div id=\"example_output_markdown_content_value\" ><p>Output 1:</p>\n",
    "<pre> 5</pre>\n",
    "<p>Output 2:</p>\n",
    "<pre> 2</pre>\n",
    "\n",
    "</div>\n",
    "<p><br><br><strong>Example Explanation</strong><br> \n",
    " </p>\n",
    "<div id=\"example_explanation_markdown_content_value\" ><p>Explanation 1:</p>\n",
    "<pre> Permutations of A that are present in B as substring are:\n",
    "    1. abc\n",
    "    2. cba\n",
    "    3. bac\n",
    "    4. cab\n",
    "    5. abc\n",
    "    So ans is 5.</pre>\n",
    "<p>Explanation 2:</p>\n",
    "<pre> Permutations of A that are present in B as substring are:\n",
    "    1. aca\n",
    "    2. caa </pre>\n",
    "</div>\n",
    "</div>"
   ]
  },
  {
   "cell_type": "code",
   "execution_count": null,
   "metadata": {},
   "outputs": [],
   "source": [
    "class Solution:\n",
    "    # @param A : string\n",
    "    # @param B : string\n",
    "    # @return an integer\n",
    "    def solve(self, A, B):\n",
    "        m, n =  len(A), len(B)\n",
    "        "
   ]
  },
  {
   "attachments": {},
   "cell_type": "markdown",
   "metadata": {},
   "source": [
    "### 6342. First Completely Painted Row or Column\n",
    "\n",
    "\n",
    "<p>You are given a <strong>0-indexed</strong> integer array <code>arr</code>, and an <code>m x n</code> integer <strong>matrix</strong> <code>mat</code>. <code>arr</code> and <code>mat</code> both contain <strong>all</strong> the integers in the range <code>[1, m * n]</code>.</p>\n",
    "\n",
    "<p>Go through each index <code>i</code> in <code>arr</code> starting from index <code>0</code> and paint the cell in <code>mat</code> containing the integer <code>arr[i]</code>.</p>\n",
    "\n",
    "<p>Return <em>the smallest index</em> <code>i</code> <em>at which either a row or a column will be completely painted in</em> <code>mat</code>.</p>\n",
    "\n",
    "<p>&nbsp;</p>\n",
    "<p><strong class=\"example\">Example 1:</strong></p>\n",
    "<img alt=\"\" src=\"image explanation for example 1\"><img alt=\"image explanation for example 1\" src=\"https://assets.leetcode.com/uploads/2023/01/18/grid1.jpg\" style=\"width: 321px; height: 81px;\">\n",
    "<pre><strong>Input:</strong> arr = [1,3,4,2], mat = [[1,4],[2,3]]\n",
    "<strong>Output:</strong> 2\n",
    "<strong>Explanation:</strong> The moves are shown in order, and both the first row and second column of the matrix become fully painted at arr[2].\n",
    "</pre>\n",
    "\n",
    "<p><strong class=\"example\">Example 2:</strong></p>\n",
    "<img alt=\"image explanation for example 2\" src=\"https://assets.leetcode.com/uploads/2023/01/18/grid2.jpg\" style=\"width: 601px; height: 121px;\">\n",
    "<pre><strong>Input:</strong> arr = [2,8,7,4,1,3,5,6,9], mat = [[3,2,5],[1,4,6],[8,7,9]]\n",
    "<strong>Output:</strong> 3\n",
    "<strong>Explanation:</strong> The second column becomes fully painted at arr[3].\n",
    "</pre>\n",
    "\n",
    "<p>&nbsp;</p>\n",
    "<p><strong>Constraints:</strong></p>\n",
    "\n",
    "<ul>\n",
    "\t<li><code>m == mat.length</code></li>\n",
    "\t<li><code>n = mat[i].length</code></li>\n",
    "\t<li><code>arr.length == m * n</code></li>\n",
    "\t<li><code>1 &lt;= m, n &lt;= 10<sup>5</sup></code></li>\n",
    "\t<li><code>1 &lt;= m * n &lt;= 10<sup>5</sup></code></li>\n",
    "\t<li><code>1 &lt;= arr[i], mat[r][c] &lt;= m * n</code></li>\n",
    "\t<li>All the integers of <code>arr</code> are <strong>unique</strong>.</li>\n",
    "\t<li>All the integers of <code>mat</code> are <strong>unique</strong>.</li>\n",
    "</ul>"
   ]
  },
  {
   "cell_type": "code",
   "execution_count": null,
   "metadata": {},
   "outputs": [],
   "source": [
    "# BruteForce:\n",
    "# Go though each value in find it in mat\n",
    "# after each insertion check weather mat col/list is full or not."
   ]
  },
  {
   "cell_type": "code",
   "execution_count": 13,
   "metadata": {},
   "outputs": [
    {
     "data": {
      "text/plain": [
       "(45, 36)"
      ]
     },
     "execution_count": 13,
     "metadata": {},
     "output_type": "execute_result"
    }
   ],
   "source": [
    "sum([3,6,10*2,8*2]), sum([9,9,9,9])"
   ]
  },
  {
   "cell_type": "markdown",
   "metadata": {},
   "source": []
  }
 ],
 "metadata": {
  "kernelspec": {
   "display_name": "Python 3",
   "language": "python",
   "name": "python3"
  },
  "language_info": {
   "codemirror_mode": {
    "name": "ipython",
    "version": 3
   },
   "file_extension": ".py",
   "mimetype": "text/x-python",
   "name": "python",
   "nbconvert_exporter": "python",
   "pygments_lexer": "ipython3",
   "version": "3.11.0"
  },
  "orig_nbformat": 4
 },
 "nbformat": 4,
 "nbformat_minor": 2
}
