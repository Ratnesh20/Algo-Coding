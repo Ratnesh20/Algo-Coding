{
 "cells": [
  {
   "cell_type": "code",
   "execution_count": 38,
   "metadata": {},
   "outputs": [],
   "source": [
    "\n",
    "class Solution:\n",
    "    # @param A : list of integers\n",
    "    # @param B : integer\n",
    "    # @return an integer\n",
    "    def solve(self, A, B):\n",
    "\n",
    "        def insert_cow(A, min_dis, B):\n",
    "            last_cow = A[0]\n",
    "            B -= 1\n",
    "            for i in range(1,len(A)):\n",
    "                if A[i]-last_cow >= min_dis:\n",
    "                    last_cow = A[0]\n",
    "                    B -= 1\n",
    "                if B == 0:\n",
    "                    return True\n",
    "            if B > 0:\n",
    "                return False\n",
    "\n",
    "        n = len(A)\n",
    "        min_dis, left, right = -1, A[1]-A[0], A[n-1] - A[0]\n",
    "        \n",
    "        for i in range(2,n):\n",
    "            if A[i] - A[i-1] < left and A[i] - A[i-1]>0:\n",
    "                left = A[i] - A[i-1]\n",
    "            if A[i] - A[i-1] > right:\n",
    "                right = A[i] - A[i-1]\n",
    "        \n",
    "        while left <= right:\n",
    "            mid = (left+right)//2\n",
    "            \n",
    "            res = insert_cow(A, mid, B)\n",
    "            if res:\n",
    "                min_dis = mid\n",
    "                left = mid + 1\n",
    "            else:\n",
    "                right = mid - 1\n",
    "        return min_dis\n"
   ]
  },
  {
   "cell_type": "code",
   "execution_count": 39,
   "metadata": {},
   "outputs": [
    {
     "data": {
      "text/plain": [
       "3"
      ]
     },
     "execution_count": 39,
     "metadata": {},
     "output_type": "execute_result"
    }
   ],
   "source": [
    "s = Solution()\n",
    "A = [ 1, 2, 3, 4, 5 ]\n",
    "B = 3\n",
    "\n",
    "\n",
    "s.solve(A, B)\n"
   ]
  },
  {
   "cell_type": "code",
   "execution_count": null,
   "metadata": {},
   "outputs": [],
   "source": []
  }
 ],
 "metadata": {
  "kernelspec": {
   "display_name": "Python 3",
   "language": "python",
   "name": "python3"
  },
  "language_info": {
   "codemirror_mode": {
    "name": "ipython",
    "version": 3
   },
   "file_extension": ".py",
   "mimetype": "text/x-python",
   "name": "python",
   "nbconvert_exporter": "python",
   "pygments_lexer": "ipython3",
   "version": "3.11.0"
  },
  "orig_nbformat": 4
 },
 "nbformat": 4,
 "nbformat_minor": 2
}
