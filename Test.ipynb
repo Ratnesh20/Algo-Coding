{
 "cells": [
  {
   "cell_type": "code",
   "execution_count": 9,
   "metadata": {},
   "outputs": [],
   "source": [
    "class Solution:\n",
    "    # @param A : list of integers\n",
    "    # @return a list of integers\n",
    "    def wave(self, A):\n",
    "        A.sort()\n",
    "        for i in range(1,len(A),2):\n",
    "            A[i], A[i-1] = A[i-1], A[i]\n",
    "\n",
    "        return A\n"
   ]
  },
  {
   "cell_type": "code",
   "execution_count": 10,
   "metadata": {},
   "outputs": [
    {
     "data": {
      "text/plain": [
       "[2,\n",
       " 1,\n",
       " 3,\n",
       " 3,\n",
       " 5,\n",
       " 4,\n",
       " 7,\n",
       " 7,\n",
       " 14,\n",
       " 13,\n",
       " 19,\n",
       " 16,\n",
       " 22,\n",
       " 19,\n",
       " 26,\n",
       " 24,\n",
       " 29,\n",
       " 27,\n",
       " 32,\n",
       " 30,\n",
       " 37,\n",
       " 33,\n",
       " 50,\n",
       " 40,\n",
       " 59,\n",
       " 51,\n",
       " 63,\n",
       " 62,\n",
       " 64,\n",
       " 64,\n",
       " 72,\n",
       " 71,\n",
       " 74,\n",
       " 72,\n",
       " 75,\n",
       " 75,\n",
       " 81,\n",
       " 77,\n",
       " 86,\n",
       " 85,\n",
       " 90,\n",
       " 88,\n",
       " 98,\n",
       " 94]"
      ]
     },
     "execution_count": 10,
     "metadata": {},
     "output_type": "execute_result"
    }
   ],
   "source": [
    "s = Solution()\n",
    "l = [ \n",
    "        37, 19, 71, 72, 5, 4, 74, 2, 30, 33, 85, 1, 7, 14, 98, 27, 51, 7, 24, \n",
    "        88, 86, 81, 77, 64, 13, 3, 63, 75, 29, 50, 90, 3, 22, 94, 40, 72, 75, 26, \n",
    "        32, 64, 62, 59, 19, 16\n",
    "    ]\n",
    "s.wave(l)\n"
   ]
  },
  {
   "cell_type": "code",
   "execution_count": null,
   "metadata": {},
   "outputs": [],
   "source": []
  },
  {
   "cell_type": "code",
   "execution_count": null,
   "metadata": {},
   "outputs": [],
   "source": []
  }
 ],
 "metadata": {
  "kernelspec": {
   "display_name": "Python 3",
   "language": "python",
   "name": "python3"
  },
  "language_info": {
   "codemirror_mode": {
    "name": "ipython",
    "version": 3
   },
   "file_extension": ".py",
   "mimetype": "text/x-python",
   "name": "python",
   "nbconvert_exporter": "python",
   "pygments_lexer": "ipython3",
   "version": "3.9.6"
  },
  "orig_nbformat": 4
 },
 "nbformat": 4,
 "nbformat_minor": 2
}
