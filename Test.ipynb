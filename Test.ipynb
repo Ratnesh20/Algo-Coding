{
 "cells": [
  {
   "cell_type": "code",
   "execution_count": 58,
   "metadata": {},
   "outputs": [],
   "source": [
    "class Solution:\n",
    "    # @param A : list of integers\n",
    "    # @param B : integer\n",
    "    # @return a list of integers\n",
    "    def solve(self, A, B):\n",
    "        c_sum, i, j = A[0], 0, 1\n",
    "        while j < len(A):\n",
    "            c_sum += A[j]\n",
    "\n",
    "            if c_sum > B:\n",
    "                c_sum -= A[i]\n",
    "                i += 1\n",
    "            if c_sum == B:\n",
    "                return [i,j]\n",
    "        \n",
    "            j += 1\n",
    "\n",
    "        return [-1]\n"
   ]
  },
  {
   "cell_type": "code",
   "execution_count": null,
   "metadata": {},
   "outputs": [],
   "source": [
    "while j < n and i < n:\n",
    "            if sum == B:\n",
    "                # current window sum = B\n",
    "                flag = True\n",
    "                break\n",
    "\n",
    "            elif sum < B:\n",
    "                # current window sum < B\n",
    "                if j + 1 == n:\n",
    "                    break\n",
    "                j = j + 1\n",
    "                sum = sum + A[j]\n",
    "\n",
    "            else:\n",
    "                # current window sum > B\n",
    "                if i + 1 == n:\n",
    "                    break\n",
    "                i = i + 1\n",
    "                sum = sum - A[i - 1]\n",
    "\n",
    "        if flag == False:\n",
    "            return [-1]\n",
    "\n",
    "        for k in range(i, j + 1):\n",
    "            list.append(A[k])"
   ]
  },
  {
   "cell_type": "code",
   "execution_count": 60,
   "metadata": {},
   "outputs": [
    {
     "data": {
      "text/plain": [
       "[1, 2]"
      ]
     },
     "execution_count": 60,
     "metadata": {},
     "output_type": "execute_result"
    }
   ],
   "source": [
    "s = Solution()\n",
    "A = [ 1, 2, 3, 4, 5 ]\n",
    "B = 5\n",
    "\n",
    "s.solve(A,B)"
   ]
  },
  {
   "cell_type": "code",
   "execution_count": 6,
   "metadata": {},
   "outputs": [],
   "source": [
    "class Solution:\n",
    "    # @param A : list of integers\n",
    "    # @param B : integer\n",
    "    # @return an integer\n",
    "    def solve(self, A, B):\n",
    "        A.sort()\n",
    "        # Initialize two pointers i and j to 0 and 1 respectively\n",
    "        i, j = 0, 1\n",
    "        count = 0\n",
    "        \n",
    "        # Loop until j reaches the end of the array\n",
    "        while j < len(A):\n",
    "            # If the difference between A[i] and A[j] is less than B,\n",
    "            # increment j\n",
    "            if A[j] - A[i] < B:\n",
    "                j += 1\n",
    "            # If the difference between A[i] and A[j] is greater than B,\n",
    "            # increment i\n",
    "            elif A[j] - A[i] > B:\n",
    "                i += 1\n",
    "                if i == j:\n",
    "                    j+= 1\n",
    "            # If the difference between A[i] and A[j] is equal to B,\n",
    "            # increment the count and increment both i and j\n",
    "            else:\n",
    "                count += 1\n",
    "                i += 1\n",
    "                j += 1\n",
    "                \n",
    "                # Skip over any duplicates of A[i] and A[j]\n",
    "                while i < len(A) and A[i] == A[i-1]:\n",
    "                    i += 1\n",
    "                while j < len(A) and A[j] == A[j-1]:\n",
    "                    j += 1\n",
    "                    \n",
    "        return count\n"
   ]
  },
  {
   "cell_type": "code",
   "execution_count": 7,
   "metadata": {},
   "outputs": [
    {
     "data": {
      "text/plain": [
       "0"
      ]
     },
     "execution_count": 7,
     "metadata": {},
     "output_type": "execute_result"
    }
   ],
   "source": [
    "s = Solution()\n",
    "A = [ 1, 2 ]\n",
    "B = 0\n",
    "s.solve(A, B)"
   ]
  },
  {
   "cell_type": "code",
   "execution_count": null,
   "metadata": {},
   "outputs": [],
   "source": [
    "class Solution:\n",
    "    # @param A : list of integers\n",
    "    # @return an integer\n",
    "    def maxArea(self, A):\n",
    "        left, right, n = 0, len(n), len(A)\n",
    "        if n <= 1:\n",
    "            return 0\n",
    "        \n",
    "        max_water = 0\n",
    "        while left <= right:\n",
    "            max_water = max(min(A[left], A[right])*(right-left), max_water)\n",
    "\n",
    "            if A[left] > A[right]:\n",
    "                right -= 1\n",
    "            elif A[left] < A[right]:\n",
    "                left += 1\n",
    "            else:\n",
    "                right -= 1\n",
    "                left += 1\n",
    "        return max_water\n",
    "            \n",
    "            \n",
    "\n",
    "\n",
    "        "
   ]
  }
 ],
 "metadata": {
  "kernelspec": {
   "display_name": "Python 3",
   "language": "python",
   "name": "python3"
  },
  "language_info": {
   "codemirror_mode": {
    "name": "ipython",
    "version": 3
   },
   "file_extension": ".py",
   "mimetype": "text/x-python",
   "name": "python",
   "nbconvert_exporter": "python",
   "pygments_lexer": "ipython3",
   "version": "3.11.0"
  },
  "orig_nbformat": 4
 },
 "nbformat": 4,
 "nbformat_minor": 2
}
