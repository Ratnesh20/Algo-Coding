{
 "cells": [
  {
   "cell_type": "code",
   "execution_count": 58,
   "metadata": {},
   "outputs": [],
   "source": [
    "class Solution:\n",
    "    # @param A : list of integers\n",
    "    # @param B : integer\n",
    "    # @return a list of integers\n",
    "    def solve(self, A, B):\n",
    "        c_sum, i, j = A[0], 0, 1\n",
    "        while j < len(A):\n",
    "            c_sum += A[j]\n",
    "\n",
    "            if c_sum > B:\n",
    "                c_sum -= A[i]\n",
    "                i += 1\n",
    "            if c_sum == B:\n",
    "                return [i,j]\n",
    "        \n",
    "            j += 1\n",
    "\n",
    "        return [-1]\n"
   ]
  },
  {
   "cell_type": "code",
   "execution_count": null,
   "metadata": {},
   "outputs": [],
   "source": [
    "while j < n and i < n:\n",
    "            if sum == B:\n",
    "                # current window sum = B\n",
    "                flag = True\n",
    "                break\n",
    "\n",
    "            elif sum < B:\n",
    "                # current window sum < B\n",
    "                if j + 1 == n:\n",
    "                    break\n",
    "                j = j + 1\n",
    "                sum = sum + A[j]\n",
    "\n",
    "            else:\n",
    "                # current window sum > B\n",
    "                if i + 1 == n:\n",
    "                    break\n",
    "                i = i + 1\n",
    "                sum = sum - A[i - 1]\n",
    "\n",
    "        if flag == False:\n",
    "            return [-1]\n",
    "\n",
    "        for k in range(i, j + 1):\n",
    "            list.append(A[k])"
   ]
  },
  {
   "cell_type": "code",
   "execution_count": 60,
   "metadata": {},
   "outputs": [
    {
     "data": {
      "text/plain": [
       "[1, 2]"
      ]
     },
     "execution_count": 60,
     "metadata": {},
     "output_type": "execute_result"
    }
   ],
   "source": [
    "s = Solution()\n",
    "A = [ 1, 2, 3, 4, 5 ]\n",
    "B = 5\n",
    "\n",
    "s.solve(A,B)"
   ]
  },
  {
   "cell_type": "code",
   "execution_count": null,
   "metadata": {},
   "outputs": [],
   "source": [
    "class Solution:\n",
    "    # @param A : list of integers\n",
    "    # @param B : integer\n",
    "    # @return a list of integers\n",
    "    def solve(self, A, B):\n",
    "        n = len(A)\n",
    "        i = j = 0\n",
    "        list = []\n",
    "        sum = A[0]\n",
    "        flag = False\n",
    "        \n",
    "        while j < n and i < n:\n",
    "            if sum == B:\n",
    "                # current window sum = B\n",
    "                flag = True\n",
    "                break\n",
    "\n",
    "            elif sum < B:\n",
    "                # current window sum < B\n",
    "                if j + 1 == n:\n",
    "                    break\n",
    "                j = j + 1\n",
    "                sum = sum + A[j]\n",
    "\n",
    "            else:\n",
    "                # current window sum > B\n",
    "                if i + 1 == n:\n",
    "                    break\n",
    "                i = i + 1\n",
    "                sum = sum - A[i - 1]\n",
    "\n",
    "        if flag == False:\n",
    "            return [-1]\n",
    "\n",
    "        for k in range(i, j + 1):\n",
    "            list.append(A[k])\n",
    "\n",
    "        return list"
   ]
  }
 ],
 "metadata": {
  "kernelspec": {
   "display_name": "Python 3",
   "language": "python",
   "name": "python3"
  },
  "language_info": {
   "codemirror_mode": {
    "name": "ipython",
    "version": 3
   },
   "file_extension": ".py",
   "mimetype": "text/x-python",
   "name": "python",
   "nbconvert_exporter": "python",
   "pygments_lexer": "ipython3",
   "version": "3.11.0"
  },
  "orig_nbformat": 4
 },
 "nbformat": 4,
 "nbformat_minor": 2
}
