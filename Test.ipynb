{
 "cells": [
  {
   "cell_type": "code",
   "execution_count": 22,
   "metadata": {},
   "outputs": [],
   "source": [
    "class Solution:\n",
    "    def solve(self, A):\n",
    "        res = self.mergesort(A)\n",
    "        return A[1] - A[0]\n",
    "    \n",
    "    def mergesort(self, A):\n",
    "        if len(A) <= 1:\n",
    "            return A\n",
    "        \n",
    "        mid = (len(A))//2\n",
    "        print(len(A), mid)\n",
    "        left  = self.mergesort(A[:mid])\n",
    "        right = self.mergesort(A[mid:])\n",
    "\n",
    "        res = self.merge(left, right)\n",
    "        return res\n",
    "    \n",
    "    def merge(self, left, right):\n",
    "        m,n,i,j,k = len(left), len(right), 0, 0, 0\n",
    "        res = [0]*(m+n)\n",
    "\n",
    "        try:\n",
    "            while i<m and j<n:\n",
    "                if left[i] <= right[j]:\n",
    "                    res[k] = left[i]\n",
    "                    k += 1\n",
    "                    i += 1\n",
    "                else:\n",
    "                    res[k] = right[j]\n",
    "                    k += 1\n",
    "                    j += 1\n",
    "            \n",
    "            while i<m:\n",
    "                res[k] = left[i]\n",
    "                k += 1\n",
    "                i += 1\n",
    "            \n",
    "            while j<n:\n",
    "                res[k] = left[j]\n",
    "                k += 1\n",
    "                j += 1\n",
    "        except Exception as e:\n",
    "            print(left,i,m, right,j,n,res,k)\n",
    "        \n",
    "        return res\n"
   ]
  },
  {
   "cell_type": "code",
   "execution_count": 23,
   "metadata": {},
   "outputs": [
    {
     "data": {
      "text/plain": [
       "0"
      ]
     },
     "execution_count": 23,
     "metadata": {},
     "output_type": "execute_result"
    }
   ],
   "source": [
    "s = Solution()\n",
    "l = [ \n",
    "        37, 19, 71, 72, 5, 4, 74, 2, 30, 33, 85, 1, 7, 14, 98, 27, 51, 7, 24, \n",
    "        88, 86, 81, 77, 64, 13, 3, 63, 75, 29, 50, 90, 3, 22, 94, 40, 72, 75, 26, \n",
    "        32, 64, 62, 59, 19, 16\n",
    "    ]\n",
    "s.solve(l)\n"
   ]
  },
  {
   "cell_type": "code",
   "execution_count": null,
   "metadata": {},
   "outputs": [],
   "source": []
  }
 ],
 "metadata": {
  "kernelspec": {
   "display_name": "Python 3",
   "language": "python",
   "name": "python3"
  },
  "language_info": {
   "codemirror_mode": {
    "name": "ipython",
    "version": 3
   },
   "file_extension": ".py",
   "mimetype": "text/x-python",
   "name": "python",
   "nbconvert_exporter": "python",
   "pygments_lexer": "ipython3",
   "version": "3.9.6"
  },
  "orig_nbformat": 4
 },
 "nbformat": 4,
 "nbformat_minor": 2
}
